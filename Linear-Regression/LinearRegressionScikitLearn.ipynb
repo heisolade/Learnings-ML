{
 "cells": [
  {
   "cell_type": "code",
   "execution_count": 2,
   "id": "37e51527-3738-4d49-b328-f43666d21f5c",
   "metadata": {},
   "outputs": [],
   "source": [
    "import pandas as pd\n",
    "import numpy as np\n",
    "import matplotlib.pyplot as plt\n",
    "%matplotlib inline"
   ]
  },
  {
   "cell_type": "code",
   "execution_count": 3,
   "id": "8369450f-6fd0-4208-b14f-92359fbf8ed9",
   "metadata": {},
   "outputs": [
    {
     "data": {
      "text/html": [
       "<div>\n",
       "<style scoped>\n",
       "    .dataframe tbody tr th:only-of-type {\n",
       "        vertical-align: middle;\n",
       "    }\n",
       "\n",
       "    .dataframe tbody tr th {\n",
       "        vertical-align: top;\n",
       "    }\n",
       "\n",
       "    .dataframe thead th {\n",
       "        text-align: right;\n",
       "    }\n",
       "</style>\n",
       "<table border=\"1\" class=\"dataframe\">\n",
       "  <thead>\n",
       "    <tr style=\"text-align: right;\">\n",
       "      <th></th>\n",
       "      <th>sepal_length</th>\n",
       "      <th>sepal_width</th>\n",
       "      <th>petal_length</th>\n",
       "      <th>petal_width</th>\n",
       "      <th>class</th>\n",
       "    </tr>\n",
       "  </thead>\n",
       "  <tbody>\n",
       "    <tr>\n",
       "      <th>0</th>\n",
       "      <td>5.1</td>\n",
       "      <td>3.5</td>\n",
       "      <td>1.4</td>\n",
       "      <td>0.2</td>\n",
       "      <td>Iris-setosa</td>\n",
       "    </tr>\n",
       "    <tr>\n",
       "      <th>1</th>\n",
       "      <td>4.9</td>\n",
       "      <td>3.0</td>\n",
       "      <td>1.4</td>\n",
       "      <td>0.2</td>\n",
       "      <td>Iris-setosa</td>\n",
       "    </tr>\n",
       "    <tr>\n",
       "      <th>2</th>\n",
       "      <td>4.7</td>\n",
       "      <td>3.2</td>\n",
       "      <td>1.3</td>\n",
       "      <td>0.2</td>\n",
       "      <td>Iris-setosa</td>\n",
       "    </tr>\n",
       "    <tr>\n",
       "      <th>3</th>\n",
       "      <td>4.6</td>\n",
       "      <td>3.1</td>\n",
       "      <td>1.5</td>\n",
       "      <td>0.2</td>\n",
       "      <td>Iris-setosa</td>\n",
       "    </tr>\n",
       "    <tr>\n",
       "      <th>4</th>\n",
       "      <td>5.0</td>\n",
       "      <td>3.6</td>\n",
       "      <td>1.4</td>\n",
       "      <td>0.2</td>\n",
       "      <td>Iris-setosa</td>\n",
       "    </tr>\n",
       "    <tr>\n",
       "      <th>...</th>\n",
       "      <td>...</td>\n",
       "      <td>...</td>\n",
       "      <td>...</td>\n",
       "      <td>...</td>\n",
       "      <td>...</td>\n",
       "    </tr>\n",
       "    <tr>\n",
       "      <th>145</th>\n",
       "      <td>6.7</td>\n",
       "      <td>3.0</td>\n",
       "      <td>5.2</td>\n",
       "      <td>2.3</td>\n",
       "      <td>Iris-virginica</td>\n",
       "    </tr>\n",
       "    <tr>\n",
       "      <th>146</th>\n",
       "      <td>6.3</td>\n",
       "      <td>2.5</td>\n",
       "      <td>5.0</td>\n",
       "      <td>1.9</td>\n",
       "      <td>Iris-virginica</td>\n",
       "    </tr>\n",
       "    <tr>\n",
       "      <th>147</th>\n",
       "      <td>6.5</td>\n",
       "      <td>3.0</td>\n",
       "      <td>5.2</td>\n",
       "      <td>2.0</td>\n",
       "      <td>Iris-virginica</td>\n",
       "    </tr>\n",
       "    <tr>\n",
       "      <th>148</th>\n",
       "      <td>6.2</td>\n",
       "      <td>3.4</td>\n",
       "      <td>5.4</td>\n",
       "      <td>2.3</td>\n",
       "      <td>Iris-virginica</td>\n",
       "    </tr>\n",
       "    <tr>\n",
       "      <th>149</th>\n",
       "      <td>5.9</td>\n",
       "      <td>3.0</td>\n",
       "      <td>5.1</td>\n",
       "      <td>1.8</td>\n",
       "      <td>Iris-virginica</td>\n",
       "    </tr>\n",
       "  </tbody>\n",
       "</table>\n",
       "<p>150 rows × 5 columns</p>\n",
       "</div>"
      ],
      "text/plain": [
       "     sepal_length  sepal_width  petal_length  petal_width           class\n",
       "0             5.1          3.5           1.4          0.2     Iris-setosa\n",
       "1             4.9          3.0           1.4          0.2     Iris-setosa\n",
       "2             4.7          3.2           1.3          0.2     Iris-setosa\n",
       "3             4.6          3.1           1.5          0.2     Iris-setosa\n",
       "4             5.0          3.6           1.4          0.2     Iris-setosa\n",
       "..            ...          ...           ...          ...             ...\n",
       "145           6.7          3.0           5.2          2.3  Iris-virginica\n",
       "146           6.3          2.5           5.0          1.9  Iris-virginica\n",
       "147           6.5          3.0           5.2          2.0  Iris-virginica\n",
       "148           6.2          3.4           5.4          2.3  Iris-virginica\n",
       "149           5.9          3.0           5.1          1.8  Iris-virginica\n",
       "\n",
       "[150 rows x 5 columns]"
      ]
     },
     "execution_count": 3,
     "metadata": {},
     "output_type": "execute_result"
    }
   ],
   "source": [
    "irisData = pd.read_csv('iris.csv')\n",
    "irisData"
   ]
  },
  {
   "cell_type": "code",
   "execution_count": 4,
   "id": "c8b930f7-ca99-48fb-ba7d-425359f16758",
   "metadata": {},
   "outputs": [],
   "source": [
    "#plt.plot(irisData['petal_length'], irisData['petal_width'], 'o', label='dataset')\n",
    "#plt.xlabel('Longueur de petal')\n",
    "#plt.ylabel('Largeur de petal')\n",
    "#plt.legend()\n",
    "#plt.show()"
   ]
  },
  {
   "cell_type": "code",
   "execution_count": 5,
   "id": "b064ae91-da4d-4a43-adad-0655c2d8e5a9",
   "metadata": {},
   "outputs": [],
   "source": [
    "from sklearn import linear_model"
   ]
  },
  {
   "cell_type": "code",
   "execution_count": 6,
   "id": "f74e5193-6147-48b7-a1b4-276fa81b866c",
   "metadata": {},
   "outputs": [],
   "source": [
    "X = irisData['petal_length'].values\n",
    "Y = irisData['petal_width'].values"
   ]
  },
  {
   "cell_type": "raw",
   "id": "c9a19d7c-b4e6-4286-b514-be5f18c84229",
   "metadata": {},
   "source": [
    "Pour l'instant notre X et notre Y sont des lignes numpy or scikit_learn ne fonctionne qu'avec des colonnes.Pour etre plus claire dans ce que je dis actuellement dans nos donnees ona par exemple:\n",
    "X = [1, 2, 3, 4, 5]\n",
    "Or pour utiliser notre model X doit ressembler a\n",
    "X = [[1], \n",
    "     [2],\n",
    "     [3], \n",
    "     [4],\n",
    "     [5]]\n",
    "Donc on vas redimensionner nos donnees en utilisant reshape"
   ]
  },
  {
   "cell_type": "code",
   "execution_count": 7,
   "id": "8814bd5a-905f-469e-aade-4743eae98596",
   "metadata": {},
   "outputs": [],
   "source": [
    "X = X.reshape(-1, 1)\n",
    "Y = Y.reshape(-1, 1)"
   ]
  },
  {
   "cell_type": "code",
   "execution_count": 8,
   "id": "777cbfa1-11db-4b56-97bb-0749577dafa7",
   "metadata": {},
   "outputs": [
    {
     "name": "stdout",
     "output_type": "stream",
     "text": [
      "[[0.41641913]]\n",
      "[-0.36651405]\n"
     ]
    }
   ],
   "source": [
    "modele = linear_model.LinearRegression() #on charge d'abord le modele qu'on vas utiliser\n",
    "#la par exemple on entraine le modele qu'on  a chargé avec notre jeu de donnée donc \n",
    "#nos coeficient optimal sont calculés a ce niveau, je parle des coeficients w et b dans y = b + wx\n",
    "modele.fit(X, Y)\n",
    "\n",
    "#Si je veux voir les coeficiant optimaux c'est a dire le biais et le poids calculé je peux faire ca\n",
    "print(modele.coef_) #ceci represente le w dans y =  b + wx\n",
    "print(modele.intercept_) #ceci represente le b dans y =  b + wx\n",
    "\n",
    "#la il utilise les coeficients qu'il a trouvé pour predire les valeurs de Y pour les valeurs de X avec lesquels on l'a entraînée \n",
    "Y_pred = modele.predict(X)"
   ]
  },
  {
   "cell_type": "code",
   "execution_count": 9,
   "id": "bbecbce1-2036-43c1-babc-8fb54e96a1a3",
   "metadata": {},
   "outputs": [
    {
     "data": {
      "image/png": "[encoded data removed]",
      "text/plain": [
       "<Figure size 640x480 with 1 Axes>"
      ]
     },
     "metadata": {},
     "output_type": "display_data"
    }
   ],
   "source": [
    "plt.plot(X, Y, 'o', label='dataset')\n",
    "plt.plot(X, Y_pred, label='predictions')\n",
    "plt.xlabel('Longueur de pétales')\n",
    "plt.ylabel('Lageur de pétales')\n",
    "plt.legend()\n",
    "plt.show()"
   ]
  },
  {
   "cell_type": "raw",
   "id": "52c981e9-f4f6-4040-9d82-632bafd7f547",
   "metadata": {},
   "source": [
    "To predict y for a specific value of x we should"
   ]
  },
  {
   "cell_type": "code",
   "execution_count": 10,
   "id": "4ad3aafb-350c-45cb-8a8a-3aff4577869a",
   "metadata": {},
   "outputs": [
    {
     "data": {
      "text/plain": [
       "array([[1.29916248]])"
      ]
     },
     "execution_count": 10,
     "metadata": {},
     "output_type": "execute_result"
    }
   ],
   "source": [
    "y_5 = modele.predict([[4]])\n",
    "y_5"
   ]
  },
  {
   "cell_type": "code",
   "execution_count": null,
   "id": "5ad1ff04-cccd-44f6-aa39-3053161ff719",
   "metadata": {},
   "outputs": [],
   "source": []
  }
 ],
 "metadata": {
  "kernelspec": {
   "display_name": "Python 3 (ipykernel)",
   "language": "python",
   "name": "python3"
  },
  "language_info": {
   "codemirror_mode": {
    "name": "ipython",
    "version": 3
   },
   "file_extension": ".py",
   "mimetype": "text/x-python",
   "name": "python",
   "nbconvert_exporter": "python",
   "pygments_lexer": "ipython3",
   "version": "3.12.7"
  }
 },
 "nbformat": 4,
 "nbformat_minor": 5
}
